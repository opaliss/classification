{
 "cells": [
  {
   "cell_type": "markdown",
   "metadata": {},
   "source": [
    "#### Single Programmer Affidavit\n",
    "I the undersigned promise that the attached assignment is my own work. While I was free to discuss ideas with others, the work contained is my own. I recognize that should this not be the case, I will be subject to penalties as outlined in the course syllabus.\n",
    "\n",
    "\n",
    "\n",
    "\n",
    "Programmer (Opal Issan. Nov 24th, 2020)"
   ]
  },
  {
   "cell_type": "markdown",
   "metadata": {},
   "source": [
    "![](A4Q1.png)"
   ]
  },
  {
   "cell_type": "markdown",
   "metadata": {},
   "source": [
    "### Answer Q1: \n",
    "\n",
    "It is more likely to have high bias because a single neuron neural net does not have enough DOF to fit the data set above (underfitting). A single neuron neural net model is simply too rigid to learn this complex nonlinear curve that will successfully seperate the blue and red datasets. "
   ]
  },
  {
   "cell_type": "markdown",
   "metadata": {},
   "source": [
    "## Question #2: \n",
    "Briefly explain a task in your own life where unsupervised learning could be applicable. "
   ]
  },
  {
   "cell_type": "markdown",
   "metadata": {},
   "source": [
    "### Answer Q2:\n",
    "\n",
    "A simple example for an unsupervised learning problem would be to predict movies that I would enjoy watching. This is practically the Netflix \"most recommended\" list of movies that pop on your account. This can be done as a clustering problem where based on the previous movies watched the algorithm will predict similar movies that corresponds to the viewers taste. "
   ]
  },
  {
   "cell_type": "markdown",
   "metadata": {},
   "source": [
    "## Question #3: \n",
    "\n",
    "\n",
    "Assume a 0-1 loss rule and a test set of examples: $e_{1}, e_{2}, ..., e_{N}$ with known labels\n",
    "$l_{1}, l_{2}, ..., l_{N}$.\n",
    "\n",
    "\n",
    "Assume that we have a learning function $h^{*}$ such that $h^{*}(e_{i}) = \\tilde l_{i} $\n",
    "where $\\tilde l_{i}$ is the predicted label. \n",
    "\n",
    "Write pseudocode for function estimate_loss(examples, labels, h*) that determines the empirical loss (also\n",
    "known as the empirical risk) of a test set of N examples."
   ]
  },
  {
   "cell_type": "markdown",
   "metadata": {},
   "source": [
    "### Answer Q3: \n",
    "\n",
    "def estimate_loss(examples, labels, h*):\n",
    "\n",
    "    emp_loss = 0 # initialize empirical loss. \n",
    "    \n",
    "    N = len(exmaples) # number of examples. \n",
    "    \n",
    "    for i in range(0, N):\n",
    "    \n",
    "        emp_loss += (h*(examples[i])- labels[i])^2  # compute the loss using squared loss. \n",
    "        \n",
    "    return emp_loss/N # return the mean loss. \n",
    "    \n"
   ]
  },
  {
   "cell_type": "markdown",
   "metadata": {},
   "source": [
    "## Question #4:"
   ]
  },
  {
   "cell_type": "markdown",
   "metadata": {},
   "source": [
    "![](A4Q4.png)"
   ]
  },
  {
   "cell_type": "markdown",
   "metadata": {},
   "source": [
    "### Answer Q4 (a):\n",
    "\n",
    "$\\frac{\\partial L}{\\partial u_{out}} = (1/2) \\cdot (y-u_{out}) \\cdot (2) \\cdot (-1) = (u_{out} - y)$\n",
    "\n",
    "\n",
    "$ \\frac{\\partial u_{out}}{\\partial u_{in}} = \\sigma (u_{in}) \\cdot (1 - \\sigma (u_{in}))$\n",
    "\n",
    "\n",
    "$ \\frac{\\partial u_{in}}{\\partial u_{w_{2}}} = x_{2}$"
   ]
  },
  {
   "cell_type": "markdown",
   "metadata": {},
   "source": [
    "### Answer Q4 (b):\n",
    "\n",
    "$ \\frac{\\partial L}{\\partial w_{2}} = \\frac{\\partial L}{\\partial u_{out}} \\frac{\\partial u_{out}}{\\partial u_{in}}\\frac{\\partial u_{in}}{\\partial u_{w_{2}}} = (u_{out} - y) \\cdot \\sigma (u_{in}) \\cdot (1 - \\sigma (u_{in})) \\cdot x_{2} $"
   ]
  },
  {
   "cell_type": "code",
   "execution_count": null,
   "metadata": {},
   "outputs": [],
   "source": []
  }
 ],
 "metadata": {
  "kernelspec": {
   "display_name": "Python 3",
   "language": "python",
   "name": "python3"
  },
  "language_info": {
   "codemirror_mode": {
    "name": "ipython",
    "version": 3
   },
   "file_extension": ".py",
   "mimetype": "text/x-python",
   "name": "python",
   "nbconvert_exporter": "python",
   "pygments_lexer": "ipython3",
   "version": "3.7.7"
  }
 },
 "nbformat": 4,
 "nbformat_minor": 4
}
